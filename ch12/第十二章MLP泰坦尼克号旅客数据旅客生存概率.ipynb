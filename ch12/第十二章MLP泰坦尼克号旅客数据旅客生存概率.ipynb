{
 "cells": [
  {
   "cell_type": "markdown",
   "metadata": {
    "collapsed": true
   },
   "source": [
    "## 数据预处理"
   ]
  },
  {
   "cell_type": "code",
   "execution_count": 30,
   "metadata": {},
   "outputs": [],
   "source": [
    "from urllib2 import urlopen\n",
    "import os\n",
    "import tarfile\n",
    "import pandas as pd\n",
    "import numpy\n",
    "import matplotlib.pyplot as plt\n",
    "%matplotlib inline"
   ]
  },
  {
   "cell_type": "code",
   "execution_count": 8,
   "metadata": {},
   "outputs": [],
   "source": [
    "all_df = pd.read_excel('titanic3.xls')"
   ]
  },
  {
   "cell_type": "code",
   "execution_count": 9,
   "metadata": {
    "collapsed": true
   },
   "outputs": [],
   "source": [
    "cols = ['survived','name','pclass','sex','age','sibsp','parch','fare','embarked']\n",
    "all_df = all_df[cols]"
   ]
  },
  {
   "cell_type": "code",
   "execution_count": 13,
   "metadata": {},
   "outputs": [],
   "source": [
    "msk = numpy.random.rand(len(all_df)) < 0.8\n",
    "train_df = all_df[msk]\n",
    "test_df = all_df[~msk]"
   ]
  },
  {
   "cell_type": "code",
   "execution_count": 15,
   "metadata": {},
   "outputs": [
    {
     "name": "stdout",
     "output_type": "stream",
     "text": [
      "('total:', 1309, 'train:', 1043, 'test:', 266)\n"
     ]
    }
   ],
   "source": [
    "print('total:', len(all_df),\n",
    "     'train:', len(train_df),\n",
    "     'test:', len(test_df))"
   ]
  },
  {
   "cell_type": "code",
   "execution_count": 19,
   "metadata": {
    "collapsed": true
   },
   "outputs": [],
   "source": [
    "from sklearn import preprocessing\n",
    "def PreprocessData(raw_df):\n",
    "    df = raw_df.drop(['name'], axis=1)\n",
    "    age_mean = df['age'].mean()\n",
    "    df['age'] = df['age'].fillna(age_mean) #使用年龄的均值来填充缺失数据\n",
    "    fare_mean = df['fare'].mean()\n",
    "    df['fare'] = df['fare'].fillna(fare_mean)\n",
    "    df['sex'] = df['sex'].map({'female':0,'male':1}).astype(int)  #转成数值型\n",
    "    x_OneHot_df = pd.get_dummies(data=df, columns=['embarked'])\n",
    "    \n",
    "    ndarray = x_OneHot_df.values\n",
    "    Features = ndarray[:, 1:]\n",
    "    Label = ndarray[:, 0]\n",
    "    \n",
    "    minmax_scale = preprocessing.MinMaxScaler(feature_range=(0,1))\n",
    "    scaledFeatures = minmax_scale.fit_transform(Features)\n",
    "    \n",
    "    return scaledFeatures, Label"
   ]
  },
  {
   "cell_type": "code",
   "execution_count": 20,
   "metadata": {},
   "outputs": [],
   "source": [
    "train_Features, train_Label = PreprocessData(train_df)\n",
    "test_Features, test_Label = PreprocessData(test_df)"
   ]
  },
  {
   "cell_type": "markdown",
   "metadata": {},
   "source": [
    "## 建立模型"
   ]
  },
  {
   "cell_type": "code",
   "execution_count": 21,
   "metadata": {},
   "outputs": [
    {
     "name": "stderr",
     "output_type": "stream",
     "text": [
      "Using TensorFlow backend.\n"
     ]
    }
   ],
   "source": [
    "from keras.models import Sequential\n",
    "from keras.layers import Dense, Dropout"
   ]
  },
  {
   "cell_type": "code",
   "execution_count": 22,
   "metadata": {
    "collapsed": true
   },
   "outputs": [],
   "source": [
    "model = Sequential()"
   ]
  },
  {
   "cell_type": "code",
   "execution_count": 23,
   "metadata": {
    "collapsed": true
   },
   "outputs": [],
   "source": [
    "model.add(Dense(units=40, input_dim=9,\n",
    "               kernel_initializer='uniform',\n",
    "               activation='relu'))"
   ]
  },
  {
   "cell_type": "code",
   "execution_count": 24,
   "metadata": {
    "collapsed": true
   },
   "outputs": [],
   "source": [
    "model.add(Dense(units=30, kernel_initializer='uniform', activation='relu'))"
   ]
  },
  {
   "cell_type": "code",
   "execution_count": 25,
   "metadata": {
    "collapsed": true
   },
   "outputs": [],
   "source": [
    "model.add(Dense(units=1, kernel_initializer='uniform', activation='sigmoid'))"
   ]
  },
  {
   "cell_type": "code",
   "execution_count": 27,
   "metadata": {},
   "outputs": [
    {
     "name": "stdout",
     "output_type": "stream",
     "text": [
      "_________________________________________________________________\n",
      "Layer (type)                 Output Shape              Param #   \n",
      "=================================================================\n",
      "dense_1 (Dense)              (None, 40)                400       \n",
      "_________________________________________________________________\n",
      "dense_2 (Dense)              (None, 30)                1230      \n",
      "_________________________________________________________________\n",
      "dense_3 (Dense)              (None, 1)                 31        \n",
      "=================================================================\n",
      "Total params: 1,661\n",
      "Trainable params: 1,661\n",
      "Non-trainable params: 0\n",
      "_________________________________________________________________\n"
     ]
    }
   ],
   "source": [
    "model.summary()"
   ]
  },
  {
   "cell_type": "markdown",
   "metadata": {},
   "source": [
    "## 开始训练"
   ]
  },
  {
   "cell_type": "code",
   "execution_count": 28,
   "metadata": {
    "collapsed": true
   },
   "outputs": [],
   "source": [
    "model.compile(loss='binary_crossentropy', optimizer='adam', metrics=['accuracy'])"
   ]
  },
  {
   "cell_type": "code",
   "execution_count": 29,
   "metadata": {},
   "outputs": [
    {
     "name": "stdout",
     "output_type": "stream",
     "text": [
      "Train on 938 samples, validate on 105 samples\n",
      "Epoch 1/30\n",
      "0s - loss: 0.6899 - acc: 0.5874 - val_loss: 0.6745 - val_acc: 0.7619\n",
      "Epoch 2/30\n",
      "0s - loss: 0.6676 - acc: 0.6418 - val_loss: 0.6069 - val_acc: 0.7619\n",
      "Epoch 3/30\n",
      "0s - loss: 0.6044 - acc: 0.7058 - val_loss: 0.5091 - val_acc: 0.7905\n",
      "Epoch 4/30\n",
      "0s - loss: 0.5380 - acc: 0.7655 - val_loss: 0.4669 - val_acc: 0.8000\n",
      "Epoch 5/30\n",
      "0s - loss: 0.5015 - acc: 0.7633 - val_loss: 0.4559 - val_acc: 0.8000\n",
      "Epoch 6/30\n",
      "0s - loss: 0.4893 - acc: 0.7665 - val_loss: 0.4570 - val_acc: 0.8000\n",
      "Epoch 7/30\n",
      "0s - loss: 0.4835 - acc: 0.7687 - val_loss: 0.4511 - val_acc: 0.8190\n",
      "Epoch 8/30\n",
      "0s - loss: 0.4818 - acc: 0.7772 - val_loss: 0.4510 - val_acc: 0.8190\n",
      "Epoch 9/30\n",
      "0s - loss: 0.4786 - acc: 0.7804 - val_loss: 0.4504 - val_acc: 0.8095\n",
      "Epoch 10/30\n",
      "0s - loss: 0.4770 - acc: 0.7825 - val_loss: 0.4500 - val_acc: 0.8095\n",
      "Epoch 11/30\n",
      "0s - loss: 0.4731 - acc: 0.7825 - val_loss: 0.4476 - val_acc: 0.8286\n",
      "Epoch 12/30\n",
      "0s - loss: 0.4710 - acc: 0.7825 - val_loss: 0.4474 - val_acc: 0.8190\n",
      "Epoch 13/30\n",
      "0s - loss: 0.4705 - acc: 0.7889 - val_loss: 0.4476 - val_acc: 0.8095\n",
      "Epoch 14/30\n",
      "0s - loss: 0.4737 - acc: 0.7836 - val_loss: 0.4453 - val_acc: 0.8286\n",
      "Epoch 15/30\n",
      "0s - loss: 0.4701 - acc: 0.7814 - val_loss: 0.4465 - val_acc: 0.8190\n",
      "Epoch 16/30\n",
      "0s - loss: 0.4674 - acc: 0.7889 - val_loss: 0.4481 - val_acc: 0.8095\n",
      "Epoch 17/30\n",
      "0s - loss: 0.4704 - acc: 0.7825 - val_loss: 0.4447 - val_acc: 0.8286\n",
      "Epoch 18/30\n",
      "0s - loss: 0.4667 - acc: 0.7857 - val_loss: 0.4456 - val_acc: 0.8190\n",
      "Epoch 19/30\n",
      "0s - loss: 0.4660 - acc: 0.7846 - val_loss: 0.4452 - val_acc: 0.8190\n",
      "Epoch 20/30\n",
      "0s - loss: 0.4641 - acc: 0.7932 - val_loss: 0.4449 - val_acc: 0.8286\n",
      "Epoch 21/30\n",
      "0s - loss: 0.4641 - acc: 0.7857 - val_loss: 0.4433 - val_acc: 0.8286\n",
      "Epoch 22/30\n",
      "0s - loss: 0.4658 - acc: 0.7846 - val_loss: 0.4449 - val_acc: 0.8000\n",
      "Epoch 23/30\n",
      "0s - loss: 0.4678 - acc: 0.7772 - val_loss: 0.4436 - val_acc: 0.8286\n",
      "Epoch 24/30\n",
      "0s - loss: 0.4675 - acc: 0.7825 - val_loss: 0.4443 - val_acc: 0.8286\n",
      "Epoch 25/30\n",
      "0s - loss: 0.4635 - acc: 0.7900 - val_loss: 0.4423 - val_acc: 0.8286\n",
      "Epoch 26/30\n",
      "0s - loss: 0.4627 - acc: 0.7878 - val_loss: 0.4437 - val_acc: 0.8286\n",
      "Epoch 27/30\n",
      "0s - loss: 0.4630 - acc: 0.7868 - val_loss: 0.4456 - val_acc: 0.8286\n",
      "Epoch 28/30\n",
      "0s - loss: 0.4620 - acc: 0.7846 - val_loss: 0.4442 - val_acc: 0.8286\n",
      "Epoch 29/30\n",
      "0s - loss: 0.4634 - acc: 0.7868 - val_loss: 0.4434 - val_acc: 0.8286\n",
      "Epoch 30/30\n",
      "0s - loss: 0.4607 - acc: 0.7857 - val_loss: 0.4440 - val_acc: 0.8286\n"
     ]
    }
   ],
   "source": [
    "train_history = model.fit(x=train_Features, y=train_Label, validation_split=0.1,\n",
    "                         epochs=30,batch_size=30, verbose=2)"
   ]
  },
  {
   "cell_type": "code",
   "execution_count": 31,
   "metadata": {
    "collapsed": true
   },
   "outputs": [],
   "source": [
    "def show_train_history(train_history, train, validation):\n",
    "    plt.plot(train_history.history[train])\n",
    "    plt.plot(train_history.history[validation])\n",
    "    plt.title('Train History')\n",
    "    plt.ylabel(train)\n",
    "    plt.xlabel('Epoch')\n",
    "    plt.legend(['train','validation'], loc='upper left')\n",
    "    plt.show()"
   ]
  },
  {
   "cell_type": "code",
   "execution_count": 32,
   "metadata": {},
   "outputs": [
    {
     "data": {
      "image/png": "[encoded data removed]",
      "text/plain": [
       "<matplotlib.figure.Figure at 0x7f3431d80a10>"
      ]
     },
     "metadata": {},
     "output_type": "display_data"
    }
   ],
   "source": [
    "show_train_history(train_history, 'acc','val_acc')"
   ]
  },
  {
   "cell_type": "code",
   "execution_count": 33,
   "metadata": {},
   "outputs": [
    {
     "data": {
      "image/png": "[encoded data removed]",
      "text/plain": [
       "<matplotlib.figure.Figure at 0x7f343032c890>"
      ]
     },
     "metadata": {},
     "output_type": "display_data"
    }
   ],
   "source": [
    "show_train_history(train_history, 'loss', 'val_loss')"
   ]
  },
  {
   "cell_type": "markdown",
   "metadata": {},
   "source": [
    "## 评估模型准确率"
   ]
  },
  {
   "cell_type": "code",
   "execution_count": 34,
   "metadata": {},
   "outputs": [
    {
     "name": "stdout",
     "output_type": "stream",
     "text": [
      "\r",
      " 32/266 [==>...........................] - ETA: 0s"
     ]
    }
   ],
   "source": [
    "scores = model.evaluate(x=test_Features, y=test_Label)"
   ]
  },
  {
   "cell_type": "code",
   "execution_count": 35,
   "metadata": {},
   "outputs": [
    {
     "data": {
      "text/plain": [
       "0.84962406059853113"
      ]
     },
     "execution_count": 35,
     "metadata": {},
     "output_type": "execute_result"
    }
   ],
   "source": [
    "scores[1]"
   ]
  },
  {
   "cell_type": "markdown",
   "metadata": {},
   "source": [
    "## 进行预测"
   ]
  },
  {
   "cell_type": "code",
   "execution_count": 37,
   "metadata": {
    "collapsed": true
   },
   "outputs": [],
   "source": [
    "all_Features, Label = PreprocessData(all_df)\n",
    "all_probability = model.predict(all_Features)"
   ]
  },
  {
   "cell_type": "code",
   "execution_count": 39,
   "metadata": {},
   "outputs": [],
   "source": [
    "pd = all_df\n",
    "pd.insert(len(all_df.columns), 'probability', all_probability)"
   ]
  },
  {
   "cell_type": "markdown",
   "metadata": {},
   "source": [
    "## Badcase分析\n",
    "### 查看生存概率高,却没有存活的乘客"
   ]
  },
  {
   "cell_type": "code",
   "execution_count": 40,
   "metadata": {},
   "outputs": [
    {
     "data": {
      "text/html": [
       "<div>\n",
       "<style>\n",
       "    .dataframe thead tr:only-child th {\n",
       "        text-align: right;\n",
       "    }\n",
       "\n",
       "    .dataframe thead th {\n",
       "        text-align: left;\n",
       "    }\n",
       "\n",
       "    .dataframe tbody tr th {\n",
       "        vertical-align: top;\n",
       "    }\n",
       "</style>\n",
       "<table border=\"1\" class=\"dataframe\">\n",
       "  <thead>\n",
       "    <tr style=\"text-align: right;\">\n",
       "      <th></th>\n",
       "      <th>survived</th>\n",
       "      <th>name</th>\n",
       "      <th>pclass</th>\n",
       "      <th>sex</th>\n",
       "      <th>age</th>\n",
       "      <th>sibsp</th>\n",
       "      <th>parch</th>\n",
       "      <th>fare</th>\n",
       "      <th>embarked</th>\n",
       "      <th>probability</th>\n",
       "    </tr>\n",
       "  </thead>\n",
       "  <tbody>\n",
       "    <tr>\n",
       "      <th>2</th>\n",
       "      <td>0</td>\n",
       "      <td>Allison, Miss. Helen Loraine</td>\n",
       "      <td>1</td>\n",
       "      <td>female</td>\n",
       "      <td>2.0</td>\n",
       "      <td>1</td>\n",
       "      <td>2</td>\n",
       "      <td>151.5500</td>\n",
       "      <td>S</td>\n",
       "      <td>0.960650</td>\n",
       "    </tr>\n",
       "    <tr>\n",
       "      <th>4</th>\n",
       "      <td>0</td>\n",
       "      <td>Allison, Mrs. Hudson J C (Bessie Waldo Daniels)</td>\n",
       "      <td>1</td>\n",
       "      <td>female</td>\n",
       "      <td>25.0</td>\n",
       "      <td>1</td>\n",
       "      <td>2</td>\n",
       "      <td>151.5500</td>\n",
       "      <td>S</td>\n",
       "      <td>0.956297</td>\n",
       "    </tr>\n",
       "    <tr>\n",
       "      <th>105</th>\n",
       "      <td>0</td>\n",
       "      <td>Evans, Miss. Edith Corse</td>\n",
       "      <td>1</td>\n",
       "      <td>female</td>\n",
       "      <td>36.0</td>\n",
       "      <td>0</td>\n",
       "      <td>0</td>\n",
       "      <td>31.6792</td>\n",
       "      <td>C</td>\n",
       "      <td>0.969703</td>\n",
       "    </tr>\n",
       "    <tr>\n",
       "      <th>169</th>\n",
       "      <td>0</td>\n",
       "      <td>Isham, Miss. Ann Elizabeth</td>\n",
       "      <td>1</td>\n",
       "      <td>female</td>\n",
       "      <td>50.0</td>\n",
       "      <td>0</td>\n",
       "      <td>0</td>\n",
       "      <td>28.7125</td>\n",
       "      <td>C</td>\n",
       "      <td>0.966713</td>\n",
       "    </tr>\n",
       "    <tr>\n",
       "      <th>286</th>\n",
       "      <td>0</td>\n",
       "      <td>Straus, Mrs. Isidor (Rosalie Ida Blun)</td>\n",
       "      <td>1</td>\n",
       "      <td>female</td>\n",
       "      <td>63.0</td>\n",
       "      <td>1</td>\n",
       "      <td>0</td>\n",
       "      <td>221.7792</td>\n",
       "      <td>S</td>\n",
       "      <td>0.944426</td>\n",
       "    </tr>\n",
       "  </tbody>\n",
       "</table>\n",
       "</div>"
      ],
      "text/plain": [
       "     survived                                             name  pclass  \\\n",
       "2           0                     Allison, Miss. Helen Loraine       1   \n",
       "4           0  Allison, Mrs. Hudson J C (Bessie Waldo Daniels)       1   \n",
       "105         0                         Evans, Miss. Edith Corse       1   \n",
       "169         0                       Isham, Miss. Ann Elizabeth       1   \n",
       "286         0           Straus, Mrs. Isidor (Rosalie Ida Blun)       1   \n",
       "\n",
       "        sex   age  sibsp  parch      fare embarked  probability  \n",
       "2    female   2.0      1      2  151.5500        S     0.960650  \n",
       "4    female  25.0      1      2  151.5500        S     0.956297  \n",
       "105  female  36.0      0      0   31.6792        C     0.969703  \n",
       "169  female  50.0      0      0   28.7125        C     0.966713  \n",
       "286  female  63.0      1      0  221.7792        S     0.944426  "
      ]
     },
     "execution_count": 40,
     "metadata": {},
     "output_type": "execute_result"
    }
   ],
   "source": [
    "#获取生存概率大于90%但是没有存活的数据\n",
    "pd[(pd['survived']==0) & (pd['probability']>0.9)]"
   ]
  },
  {
   "cell_type": "markdown",
   "metadata": {},
   "source": [
    "通过分析badcase,我们可以把name的家族名称作为一个特征项"
   ]
  }
 ],
 "metadata": {
  "kernelspec": {
   "display_name": "Python 2",
   "language": "python",
   "name": "python2"
  },
  "language_info": {
   "codemirror_mode": {
    "name": "ipython",
    "version": 2
   },
   "file_extension": ".py",
   "mimetype": "text/x-python",
   "name": "python",
   "nbconvert_exporter": "python",
   "pygments_lexer": "ipython2",
   "version": "2.7.13"
  }
 },
 "nbformat": 4,
 "nbformat_minor": 2
}
