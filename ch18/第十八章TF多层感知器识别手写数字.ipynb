{
 "cells": [
  {
   "cell_type": "code",
   "execution_count": 1,
   "metadata": {
    "collapsed": true
   },
   "outputs": [],
   "source": [
    "import numpy as np\n",
    "import matplotlib.pyplot as plt\n",
    "%matplotlib inline"
   ]
  },
  {
   "cell_type": "code",
   "execution_count": 2,
   "metadata": {},
   "outputs": [
    {
     "name": "stdout",
     "output_type": "stream",
     "text": [
      "Extracting MNIST_data/train-images-idx3-ubyte.gz\n",
      "Extracting MNIST_data/train-labels-idx1-ubyte.gz\n",
      "Extracting MNIST_data/t10k-images-idx3-ubyte.gz\n",
      "Extracting MNIST_data/t10k-labels-idx1-ubyte.gz\n"
     ]
    }
   ],
   "source": [
    "import tensorflow as tf\n",
    "import tensorflow.examples.tutorials.mnist.input_data as input_data\n",
    "\n",
    "mnist = input_data.read_data_sets('MNIST_data/',one_hot=True)"
   ]
  },
  {
   "cell_type": "code",
   "execution_count": 3,
   "metadata": {},
   "outputs": [
    {
     "name": "stdout",
     "output_type": "stream",
     "text": [
      "('train images    :', (55000, 784), 'labels:', (55000, 10))\n",
      "('validation images    :', (5000, 784), 'labels:', (5000, 10))\n",
      "('test images    :', (10000, 784), 'labels:', (10000, 10))\n"
     ]
    }
   ],
   "source": [
    "print('train images    :',mnist.train.images.shape,\n",
    "     'labels:',mnist.train.labels.shape)\n",
    "print('validation images    :',mnist.validation.images.shape,\n",
    "     'labels:',mnist.validation.labels.shape)\n",
    "print('test images    :',mnist.test.images.shape,\n",
    "     'labels:',mnist.test.labels.shape)"
   ]
  },
  {
   "cell_type": "code",
   "execution_count": 4,
   "metadata": {
    "collapsed": true
   },
   "outputs": [],
   "source": [
    "#建立layer函数\n",
    "def layer(output_dim, input_dim,inputs,activation=None):\n",
    "    W = tf.Variable(tf.random_normal([input_dim, output_dim]))\n",
    "    b = tf.Variable(tf.random_normal([1,output_dim]))\n",
    "    XWb = tf.matmul(inputs, W)+b\n",
    "    if activation is None:\n",
    "        outputs = XWb\n",
    "    else:\n",
    "        outputs =activation(XWb)\n",
    "        \n",
    "    return outputs"
   ]
  },
  {
   "cell_type": "markdown",
   "metadata": {},
   "source": [
    "## 建立模型"
   ]
  },
  {
   "cell_type": "code",
   "execution_count": 6,
   "metadata": {
    "collapsed": true
   },
   "outputs": [],
   "source": [
    "#建立输入层\n",
    "x = tf.placeholder('float', [None, 784])"
   ]
  },
  {
   "cell_type": "code",
   "execution_count": 7,
   "metadata": {
    "collapsed": true
   },
   "outputs": [],
   "source": [
    "#建立隐藏层(h1)\n",
    "h1 = layer(output_dim=256,input_dim=784,inputs=x, activation=tf.nn.relu)"
   ]
  },
  {
   "cell_type": "code",
   "execution_count": 8,
   "metadata": {
    "collapsed": true
   },
   "outputs": [],
   "source": [
    "#建立输出层\n",
    "y_predict = layer(output_dim=10, input_dim=256, inputs=h1, activation=None)"
   ]
  },
  {
   "cell_type": "markdown",
   "metadata": {},
   "source": [
    "## 定义训练方式\n",
    "\n",
    "keras和tensorflow定义训练方式的不同\n",
    "\n",
    "- keras定义训练方式:只需要使用model.compile设置损失函数,优化器,并使用metrics设置评估模型的方式\n",
    "- tensorflow定义训练方式:必须自定定义损失函数的公式,优化器和设置参数,并定义评估模型准确率的公式"
   ]
  },
  {
   "cell_type": "code",
   "execution_count": 9,
   "metadata": {
    "collapsed": true
   },
   "outputs": [],
   "source": [
    "y_label = tf.placeholder('float', [None,10])"
   ]
  },
  {
   "cell_type": "code",
   "execution_count": 10,
   "metadata": {
    "collapsed": true
   },
   "outputs": [],
   "source": [
    "#定义损失函数\n",
    "loss_function = tf.reduce_mean(tf.nn.softmax_cross_entropy_with_logits(logits=y_predict, labels=y_label))"
   ]
  },
  {
   "cell_type": "code",
   "execution_count": 11,
   "metadata": {
    "collapsed": true
   },
   "outputs": [],
   "source": [
    "#定义优化器\n",
    "optimizer = tf.train.AdamOptimizer(learning_rate=0.001).minimize(loss_function)"
   ]
  },
  {
   "cell_type": "markdown",
   "metadata": {},
   "source": [
    "## 定义评估模型准确率的方式"
   ]
  },
  {
   "cell_type": "code",
   "execution_count": 10,
   "metadata": {
    "collapsed": true
   },
   "outputs": [],
   "source": [
    "correct_prediction = tf.equal(tf.argmax(y_label, 1),tf.argmax(y_predict, 1))\n",
    "#计算预测正确结果的平均值,tf.cast数值类型转换成float型\n",
    "accuracy = tf.reduce_mean(tf.cast(correct_prediction, 'float'))"
   ]
  },
  {
   "cell_type": "markdown",
   "metadata": {},
   "source": [
    "## 进行训练\n",
    "\n",
    "两者区别:\n",
    "- keras进行训练:只需要使用model.fit就可以开始训练\n",
    "- TensorFlow进行训练:必须编写程序代码来控制训练的每一个过程"
   ]
  },
  {
   "cell_type": "code",
   "execution_count": 14,
   "metadata": {
    "collapsed": true
   },
   "outputs": [],
   "source": [
    "trainEpochs = 15\n",
    "batchSize = 100\n",
    "loss_list = []\n",
    "epoch_list = []\n",
    "accuracy_list=[]\n",
    "from time import time\n",
    "startTime = time()\n",
    "\n",
    "sess = tf.Session()\n",
    "sess.run(tf.global_variables_initializer())"
   ]
  },
  {
   "cell_type": "code",
   "execution_count": 18,
   "metadata": {},
   "outputs": [
    {
     "name": "stdout",
     "output_type": "stream",
     "text": [
      "('Train Epoch:', '01', 'Loss=', '6.457884312', ' Accuracy=', 0.84060001)\n",
      "('Train Epoch:', '02', 'Loss=', '4.205471992', ' Accuracy=', 0.88459998)\n",
      "('Train Epoch:', '03', 'Loss=', '3.197957039', ' Accuracy=', 0.90560001)\n",
      "('Train Epoch:', '04', 'Loss=', '2.711728573', ' Accuracy=', 0.91299999)\n",
      "('Train Epoch:', '05', 'Loss=', '2.376116514', ' Accuracy=', 0.91799998)\n",
      "('Train Epoch:', '06', 'Loss=', '2.100419760', ' Accuracy=', 0.92079997)\n",
      "('Train Epoch:', '07', 'Loss=', '1.922395110', ' Accuracy=', 0.92640001)\n",
      "('Train Epoch:', '08', 'Loss=', '1.759475946', ' Accuracy=', 0.93159997)\n",
      "('Train Epoch:', '09', 'Loss=', '1.601080537', ' Accuracy=', 0.93360001)\n",
      "('Train Epoch:', '10', 'Loss=', '1.484995365', ' Accuracy=', 0.93580002)\n",
      "('Train Epoch:', '11', 'Loss=', '1.412561893', ' Accuracy=', 0.93760002)\n",
      "('Train Epoch:', '12', 'Loss=', '1.374233365', ' Accuracy=', 0.9386)\n",
      "('Train Epoch:', '13', 'Loss=', '1.318613529', ' Accuracy=', 0.94300002)\n",
      "('Train Epoch:', '14', 'Loss=', '1.338333964', ' Accuracy=', 0.94019997)\n",
      "('Train Epoch:', '15', 'Loss=', '1.277066350', ' Accuracy=', 0.94120002)\n"
     ]
    }
   ],
   "source": [
    "#每轮迭代都要计算loss,同时评估模型\n",
    "totalBatch = 550\n",
    "for epoch in range(trainEpochs):\n",
    "    for i in range(totalBatch):\n",
    "        batch_x, batch_y = mnist.train.next_batch(batchSize)\n",
    "        sess.run(optimizer, feed_dict={x:batch_x, y_label:batch_y})\n",
    "        \n",
    "    loss,acc = sess.run([loss_function, accuracy],feed_dict={x:mnist.validation.images, y_label:mnist.validation.labels})\n",
    "    epoch_list.append(epoch)\n",
    "    loss_list.append(loss)\n",
    "    accuracy_list.append(acc)\n",
    "    print('Train Epoch:', '%02d' % (epoch+1), 'Loss=', '{:.9f}'.format(loss), \" Accuracy=\", acc)"
   ]
  },
  {
   "cell_type": "code",
   "execution_count": 20,
   "metadata": {},
   "outputs": [
    {
     "data": {
      "text/plain": [
       "<matplotlib.legend.Legend at 0x7fee792ada90>"
      ]
     },
     "execution_count": 20,
     "metadata": {},
     "output_type": "execute_result"
    },
    {
     "data": {
      "image/png": "[encoded data removed]",
      "text/plain": [
       "<matplotlib.figure.Figure at 0x7fee792ad250>"
      ]
     },
     "metadata": {},
     "output_type": "display_data"
    }
   ],
   "source": [
    "fig = plt.gcf()\n",
    "fig.set_size_inches(4,2)\n",
    "plt.plot(epoch_list, loss_list, label='loss')\n",
    "plt.ylabel('loss')\n",
    "plt.xlabel('epoch')\n",
    "plt.legend(['loss'], loc='upper left')"
   ]
  },
  {
   "cell_type": "markdown",
   "metadata": {},
   "source": [
    "## 评估模型准确率"
   ]
  },
  {
   "cell_type": "code",
   "execution_count": 21,
   "metadata": {},
   "outputs": [
    {
     "name": "stdout",
     "output_type": "stream",
     "text": [
      "('Accuracy:', 0.94319999)\n"
     ]
    }
   ],
   "source": [
    "print('Accuracy:', sess.run(accuracy, feed_dict={x: mnist.test.images,\n",
    "                                                y_label: mnist.test.labels}))"
   ]
  },
  {
   "cell_type": "markdown",
   "metadata": {},
   "source": [
    "## 进行预测"
   ]
  },
  {
   "cell_type": "code",
   "execution_count": 22,
   "metadata": {
    "collapsed": true
   },
   "outputs": [],
   "source": [
    "prediction_result = sess.run(tf.argmax(y_predict, 1), feed_dict={x:mnist.test.images})"
   ]
  },
  {
   "cell_type": "code",
   "execution_count": 23,
   "metadata": {},
   "outputs": [
    {
     "data": {
      "text/plain": [
       "array([7, 2, 1, 0, 4, 1, 4, 9, 5, 9])"
      ]
     },
     "execution_count": 23,
     "metadata": {},
     "output_type": "execute_result"
    }
   ],
   "source": [
    "prediction_result[:10]"
   ]
  },
  {
   "cell_type": "code",
   "execution_count": 24,
   "metadata": {
    "collapsed": true
   },
   "outputs": [],
   "source": [
    "def plot_images_labels_prediction(images, labels, prediction, idx, num=10):\n",
    "    fig = plt.gcf()\n",
    "    fig.set_size_inches(12,14)\n",
    "    if num>25: num=25\n",
    "    \n",
    "    for i in range(0, num):\n",
    "        ax = plt.subplot(5,5, 1+i)\n",
    "        ax.imshow(np.reshape(images[idx], (28,28)), cmap='binary')\n",
    "        title = 'label='+str(np.argmax(labels[idx]))\n",
    "        \n",
    "        if len(prediction)>0:\n",
    "            title +=\", predict=\"+str(prediction[idx])\n",
    "            \n",
    "        ax.set_title(title, fontsize=10)\n",
    "        ax.set_xticks([]);ax.set_yticks([])\n",
    "        idx+=1\n",
    "    plt.show()"
   ]
  },
  {
   "cell_type": "code",
   "execution_count": 27,
   "metadata": {},
   "outputs": [
    {
     "data": {
      "image/png": "[encoded data removed]",
      "text/plain": [
       "<matplotlib.figure.Figure at 0x7fee78f13d90>"
      ]
     },
     "metadata": {},
     "output_type": "display_data"
    }
   ],
   "source": [
    "plot_images_labels_prediction(mnist.test.images, mnist.test.labels, prediction_result, 0)"
   ]
  },
  {
   "cell_type": "markdown",
   "metadata": {},
   "source": [
    "## 隐藏层加入更多的神经元用于提高准确率"
   ]
  },
  {
   "cell_type": "code",
   "execution_count": 11,
   "metadata": {
    "collapsed": true
   },
   "outputs": [],
   "source": [
    "sess.close()"
   ]
  },
  {
   "cell_type": "code",
   "execution_count": 12,
   "metadata": {
    "collapsed": true
   },
   "outputs": [],
   "source": [
    "x = tf.placeholder('float',[None, 784])\n",
    "#建立隐藏层h1\n",
    "h1 = layer(output_dim=1000, input_dim=784,inputs=x, activation=tf.nn.relu)\n",
    "#建立输出层\n",
    "y_predict=layer(output_dim=10, input_dim=1000, inputs=h1, activation=None)\n",
    "y_label = tf.placeholder('float', [None, 10])"
   ]
  },
  {
   "cell_type": "code",
   "execution_count": 13,
   "metadata": {
    "collapsed": true
   },
   "outputs": [],
   "source": [
    "correct_prediction = tf.equal(tf.argmax(y_label, 1),tf.argmax(y_predict, 1))\n",
    "#计算预测正确结果的平均值,tf.cast数值类型转换成float型\n",
    "accuracy = tf.reduce_mean(tf.cast(correct_prediction, 'float'))"
   ]
  },
  {
   "cell_type": "code",
   "execution_count": 14,
   "metadata": {
    "collapsed": true
   },
   "outputs": [],
   "source": [
    "#定义损失函数\n",
    "loss_function = tf.reduce_mean(tf.nn.softmax_cross_entropy_with_logits(logits=y_predict, labels=y_label))\n",
    "#定义优化器\n",
    "optimizer = tf.train.AdamOptimizer(learning_rate=0.001).minimize(loss_function)"
   ]
  },
  {
   "cell_type": "code",
   "execution_count": 15,
   "metadata": {
    "collapsed": true
   },
   "outputs": [],
   "source": [
    "trainEpochs = 15\n",
    "batchSize = 100\n",
    "loss_list = []\n",
    "epoch_list = []\n",
    "accuracy_list=[]\n",
    "from time import time\n",
    "startTime = time()\n",
    "\n",
    "sess = tf.Session()\n",
    "sess.run(tf.global_variables_initializer())"
   ]
  },
  {
   "cell_type": "code",
   "execution_count": 16,
   "metadata": {},
   "outputs": [
    {
     "name": "stdout",
     "output_type": "stream",
     "text": [
      "('Train Epoch:', '01', 'Loss=', '8.676305771', ' Accuracy=', 0.89499998)\n",
      "('Train Epoch:', '02', 'Loss=', '5.626771927', ' Accuracy=', 0.92220002)\n",
      "('Train Epoch:', '03', 'Loss=', '4.302570343', ' Accuracy=', 0.93400002)\n",
      "('Train Epoch:', '04', 'Loss=', '3.688324690', ' Accuracy=', 0.93760002)\n",
      "('Train Epoch:', '05', 'Loss=', '3.516411781', ' Accuracy=', 0.94059998)\n",
      "('Train Epoch:', '06', 'Loss=', '2.987801075', ' Accuracy=', 0.94800001)\n",
      "('Train Epoch:', '07', 'Loss=', '2.835555077', ' Accuracy=', 0.94760001)\n",
      "('Train Epoch:', '08', 'Loss=', '2.704016924', ' Accuracy=', 0.95179999)\n",
      "('Train Epoch:', '09', 'Loss=', '2.709092617', ' Accuracy=', 0.95240003)\n",
      "('Train Epoch:', '10', 'Loss=', '2.521335840', ' Accuracy=', 0.95459998)\n",
      "('Train Epoch:', '11', 'Loss=', '2.525215387', ' Accuracy=', 0.95560002)\n",
      "('Train Epoch:', '12', 'Loss=', '2.747397661', ' Accuracy=', 0.95200002)\n",
      "('Train Epoch:', '13', 'Loss=', '2.466738701', ' Accuracy=', 0.95599997)\n",
      "('Train Epoch:', '14', 'Loss=', '2.392931700', ' Accuracy=', 0.95480001)\n",
      "('Train Epoch:', '15', 'Loss=', '2.393236637', ' Accuracy=', 0.958)\n"
     ]
    }
   ],
   "source": [
    "#每轮迭代都要计算loss,同时评估模型\n",
    "totalBatch = 550\n",
    "for epoch in range(trainEpochs):\n",
    "    for i in range(totalBatch):\n",
    "        batch_x, batch_y = mnist.train.next_batch(batchSize)\n",
    "        sess.run(optimizer, feed_dict={x:batch_x, y_label:batch_y})\n",
    "        \n",
    "    loss,acc = sess.run([loss_function, accuracy],feed_dict={x:mnist.validation.images, y_label:mnist.validation.labels})\n",
    "    epoch_list.append(epoch)\n",
    "    loss_list.append(loss)\n",
    "    accuracy_list.append(acc)\n",
    "    print('Train Epoch:', '%02d' % (epoch+1), 'Loss=', '{:.9f}'.format(loss), \" Accuracy=\", acc)"
   ]
  },
  {
   "cell_type": "code",
   "execution_count": 17,
   "metadata": {},
   "outputs": [
    {
     "name": "stdout",
     "output_type": "stream",
     "text": [
      "('Accuracy:', 0.95370001)\n"
     ]
    }
   ],
   "source": [
    "print('Accuracy:', sess.run(accuracy, feed_dict={x:mnist.test.images, y_label:mnist.test.labels}))"
   ]
  },
  {
   "cell_type": "markdown",
   "metadata": {},
   "source": [
    "## 建立包含两个隐藏层的多层感知器模型"
   ]
  },
  {
   "cell_type": "code",
   "execution_count": 21,
   "metadata": {
    "collapsed": true
   },
   "outputs": [],
   "source": [
    "sess.close()"
   ]
  },
  {
   "cell_type": "code",
   "execution_count": 7,
   "metadata": {
    "collapsed": true
   },
   "outputs": [],
   "source": [
    "x = tf.placeholder('float', [None, 784])\n",
    "h1 = layer(output_dim=1000,input_dim=784,inputs=x,activation=tf.nn.relu)\n",
    "h2 = layer(output_dim=1000,input_dim=1000,inputs=h1,activation=tf.nn.relu)\n",
    "y_predict =layer(output_dim=10,input_dim=1000,inputs=h2,activation=None)\n",
    "y_label = tf.placeholder('float', [None, 10])"
   ]
  },
  {
   "cell_type": "code",
   "execution_count": 8,
   "metadata": {},
   "outputs": [],
   "source": [
    "correct_prediction = tf.equal(tf.argmax(y_label, 1),tf.argmax(y_predict, 1))\n",
    "#计算预测正确结果的平均值,tf.cast数值类型转换成float型\n",
    "accuracy = tf.reduce_mean(tf.cast(correct_prediction, 'float'))"
   ]
  },
  {
   "cell_type": "code",
   "execution_count": 9,
   "metadata": {},
   "outputs": [
    {
     "name": "stdout",
     "output_type": "stream",
     "text": [
      "('Train Epoch:', '01', 'Loss=', '130.422439575', ' Accuracy=', 0.92040002)\n",
      "('Train Epoch:', '02', 'Loss=', '91.544097900', ' Accuracy=', 0.93540001)\n",
      "('Train Epoch:', '03', 'Loss=', '79.427078247', ' Accuracy=', 0.94279999)\n",
      "('Train Epoch:', '04', 'Loss=', '71.194335938', ' Accuracy=', 0.949)\n",
      "('Train Epoch:', '05', 'Loss=', '70.531250000', ' Accuracy=', 0.94980001)\n",
      "('Train Epoch:', '06', 'Loss=', '59.210201263', ' Accuracy=', 0.95700002)\n",
      "('Train Epoch:', '07', 'Loss=', '63.342487335', ' Accuracy=', 0.95380002)\n",
      "('Train Epoch:', '08', 'Loss=', '65.286109924', ' Accuracy=', 0.95700002)\n",
      "('Train Epoch:', '09', 'Loss=', '56.811687469', ' Accuracy=', 0.96179998)\n",
      "('Train Epoch:', '10', 'Loss=', '61.891193390', ' Accuracy=', 0.96179998)\n",
      "('Train Epoch:', '11', 'Loss=', '54.254238129', ' Accuracy=', 0.96579999)\n",
      "('Train Epoch:', '12', 'Loss=', '59.694137573', ' Accuracy=', 0.96139997)\n",
      "('Train Epoch:', '13', 'Loss=', '66.107955933', ' Accuracy=', 0.96060002)\n",
      "('Train Epoch:', '14', 'Loss=', '59.132423401', ' Accuracy=', 0.96880001)\n",
      "('Train Epoch:', '15', 'Loss=', '65.420562744', ' Accuracy=', 0.96179998)\n"
     ]
    }
   ],
   "source": [
    "#定义损失函数\n",
    "loss_function = tf.reduce_mean(tf.nn.softmax_cross_entropy_with_logits(logits=y_predict, labels=y_label))\n",
    "#定义优化器\n",
    "optimizer = tf.train.AdamOptimizer(learning_rate=0.001).minimize(loss_function)\n",
    "trainEpochs = 15\n",
    "batchSize = 100\n",
    "loss_list = []\n",
    "epoch_list = []\n",
    "accuracy_list=[]\n",
    "from time import time\n",
    "startTime = time()\n",
    "\n",
    "sess = tf.Session()\n",
    "sess.run(tf.global_variables_initializer())\n",
    "#每轮迭代都要计算loss,同时评估模型\n",
    "totalBatch = 550\n",
    "for epoch in range(trainEpochs):\n",
    "    for i in range(totalBatch):\n",
    "        batch_x, batch_y = mnist.train.next_batch(batchSize)\n",
    "        sess.run(optimizer, feed_dict={x:batch_x, y_label:batch_y})\n",
    "        \n",
    "    loss,acc = sess.run([loss_function, accuracy],feed_dict={x:mnist.validation.images, y_label:mnist.validation.labels})\n",
    "    epoch_list.append(epoch)\n",
    "    loss_list.append(loss)\n",
    "    accuracy_list.append(acc)\n",
    "    print('Train Epoch:', '%02d' % (epoch+1), 'Loss=', '{:.9f}'.format(loss), \" Accuracy=\", acc)"
   ]
  },
  {
   "cell_type": "code",
   "execution_count": 10,
   "metadata": {},
   "outputs": [
    {
     "name": "stdout",
     "output_type": "stream",
     "text": [
      "('Accuracy:', 0.96270001)\n"
     ]
    }
   ],
   "source": [
    "print('Accuracy:', sess.run(accuracy, feed_dict={x:mnist.test.images, y_label:mnist.test.labels}))"
   ]
  },
  {
   "cell_type": "code",
   "execution_count": null,
   "metadata": {
    "collapsed": true
   },
   "outputs": [],
   "source": []
  }
 ],
 "metadata": {
  "kernelspec": {
   "display_name": "Python 2",
   "language": "python",
   "name": "python2"
  },
  "language_info": {
   "codemirror_mode": {
    "name": "ipython",
    "version": 2
   },
   "file_extension": ".py",
   "mimetype": "text/x-python",
   "name": "python",
   "nbconvert_exporter": "python",
   "pygments_lexer": "ipython2",
   "version": "2.7.13"
  }
 },
 "nbformat": 4,
 "nbformat_minor": 2
}
