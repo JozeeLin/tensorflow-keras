{
 "cells": [
  {
   "cell_type": "code",
   "execution_count": 10,
   "metadata": {
    "collapsed": true
   },
   "outputs": [],
   "source": [
    "import tensorflow as tf\n",
    "import numpy as np\n",
    "import matplotlib.pyplot as plt\n",
    "%matplotlib inline"
   ]
  },
  {
   "cell_type": "code",
   "execution_count": 3,
   "metadata": {},
   "outputs": [
    {
     "name": "stdout",
     "output_type": "stream",
     "text": [
      "('XWb:', array([[-0.35999998,  0.28      ]], dtype=float32))\n",
      "('y:', array([[ 0.  ,  0.28]], dtype=float32))\n"
     ]
    }
   ],
   "source": [
    "X = tf.Variable([[0.4,0.2,0.4]])\n",
    "W = tf.Variable([[-0.5,-0.2],\n",
    "                [-0.3,0.4],\n",
    "                [-0.5,0.2]])\n",
    "b = tf.Variable([[0.1,0.2]])\n",
    "\n",
    "XWb = tf.matmul(X,W)+b\n",
    "y = tf.nn.relu(tf.matmul(X,W)+b)\n",
    "with tf.Session() as sess:\n",
    "    init = tf.global_variables_initializer()\n",
    "    sess.run(init)\n",
    "    print('XWb:',sess.run(XWb))\n",
    "    print('y:', sess.run(y))"
   ]
  },
  {
   "cell_type": "code",
   "execution_count": 4,
   "metadata": {},
   "outputs": [
    {
     "name": "stdout",
     "output_type": "stream",
     "text": [
      "('XWb:', array([[-0.35999998,  0.28      ]], dtype=float32))\n",
      "('y:', array([[ 0.41095957,  0.56954622]], dtype=float32))\n"
     ]
    }
   ],
   "source": [
    "#sigmoid激活函数\n",
    "X = tf.Variable([[0.4, 0.2, 0.4]])\n",
    "W = tf.Variable([[-0.5,-0.2],\n",
    "                [-0.3, 0.4],\n",
    "                [-0.5, 0.2]])\n",
    "b = tf.Variable([[0.1, 0.2]])\n",
    "\n",
    "XWb = tf.matmul(X,W)+b\n",
    "\n",
    "y = tf.nn.sigmoid(tf.matmul(X,W)+b)\n",
    "\n",
    "with tf.Session() as sess:\n",
    "    init = tf.global_variables_initializer()\n",
    "    sess.run(init)\n",
    "    print('XWb:',sess.run(XWb))\n",
    "    print('y:', sess.run(y))"
   ]
  },
  {
   "cell_type": "code",
   "execution_count": 5,
   "metadata": {},
   "outputs": [
    {
     "name": "stdout",
     "output_type": "stream",
     "text": [
      "('b:', array([[ 0.19723237, -0.57399565]], dtype=float32))\n",
      "('W:', array([[-0.49489957,  0.17356798],\n",
      "       [ 0.31766674,  1.12940657],\n",
      "       [ 0.32945701, -0.81234473]], dtype=float32))\n",
      "('y:', array([[ 0.19458871,  0.        ]], dtype=float32))\n"
     ]
    }
   ],
   "source": [
    "#以正态分布的随机数生成权重与偏差的初始值\n",
    "W = tf.Variable(tf.random_normal([3,2]))\n",
    "b = tf.Variable(tf.random_normal([1,2]))\n",
    "X = tf.Variable([[0.4,0.2,0.4]])\n",
    "y = tf.nn.relu(tf.matmul(X,W)+b)\n",
    "\n",
    "with tf.Session() as sess:\n",
    "    init = tf.global_variables_initializer()\n",
    "    sess.run(init)\n",
    "    print('b:', sess.run(b))\n",
    "    print('W:', sess.run(W))\n",
    "    print('y:', sess.run(y))"
   ]
  },
  {
   "cell_type": "code",
   "execution_count": 6,
   "metadata": {},
   "outputs": [
    {
     "name": "stdout",
     "output_type": "stream",
     "text": [
      "[ 1.9808203   1.64421785 -0.48781005  0.67302376 -0.52207488]\n"
     ]
    }
   ],
   "source": [
    "#正态分布随机数\n",
    "ts_norm = tf.random_normal([1000])\n",
    "\n",
    "with tf.Session() as session:\n",
    "    norm_data = ts_norm.eval()\n",
    "    \n",
    "print(norm_data[:5])"
   ]
  },
  {
   "cell_type": "code",
   "execution_count": 8,
   "metadata": {},
   "outputs": [
    {
     "data": {
      "image/png": "[encoded data removed]",
      "text/plain": [
       "<matplotlib.figure.Figure at 0x7f9b961df450>"
      ]
     },
     "metadata": {},
     "output_type": "display_data"
    }
   ],
   "source": [
    "plt.hist(norm_data)\n",
    "plt.show()"
   ]
  },
  {
   "cell_type": "markdown",
   "metadata": {},
   "source": [
    "## 以placeholder传入X值"
   ]
  },
  {
   "cell_type": "code",
   "execution_count": 11,
   "metadata": {},
   "outputs": [
    {
     "name": "stdout",
     "output_type": "stream",
     "text": [
      "b:\n",
      "[[ 0.75621879 -0.17452425]]\n",
      "_W:\n",
      "[[ 0.11709695  1.3866986 ]\n",
      " [ 0.22174695  0.26039377]\n",
      " [ 0.68829119  0.92647582]]\n",
      "_X:\n",
      "[[ 0.40000001  0.2         0.40000001]]\n",
      "_y:\n",
      "[[ 1.12272346  0.80282432]]\n"
     ]
    }
   ],
   "source": [
    "W = tf.Variable(tf.random_normal([3,2]))\n",
    "h = tf.Variable(tf.random_normal([1,2]))\n",
    "X = tf.placeholder('float', [None,3])\n",
    "y = tf.nn.relu(tf.matmul(X,W)+b)\n",
    "\n",
    "with tf.Session() as sess:\n",
    "    init = tf.global_variables_initializer()\n",
    "    sess.run(init)\n",
    "    X_array = np.array([[0.4,0.2,0.4]])\n",
    "    (_b, _W, _X, _y) = sess.run((b,W,X,y), feed_dict={X:X_array})\n",
    "    print('b:');print(_b)\n",
    "    print('_W:');print(_W)\n",
    "    print('_X:');print(_X)\n",
    "    print('_y:');print(_y)"
   ]
  },
  {
   "cell_type": "markdown",
   "metadata": {},
   "source": [
    "## 创建Layer函数以矩阵运算仿真神经网络"
   ]
  },
  {
   "cell_type": "code",
   "execution_count": 12,
   "metadata": {
    "collapsed": true
   },
   "outputs": [],
   "source": [
    "def layer(output_dim, input_dim, inputs, activation=None):\n",
    "    W = tf.Variable(tf.random_normal([input_dim,output_dim]))\n",
    "    b = tf.Variable(tf.random_normal([1, output_dim]))\n",
    "    XWb = tf.matmul(inputs, W)+b\n",
    "    if activation is None:\n",
    "        outputs = XWb\n",
    "    else:\n",
    "        outputs = activation(XWb)\n",
    "    return outputs"
   ]
  },
  {
   "cell_type": "code",
   "execution_count": 13,
   "metadata": {},
   "outputs": [
    {
     "name": "stdout",
     "output_type": "stream",
     "text": [
      "input layer X:\n",
      "[[ 0.40000001  0.2         0.40000001  0.5       ]]\n",
      "hidden layer h:\n",
      "[[ 0.          0.          0.18070343]]\n",
      "output layer y:\n",
      "[[ 1.7026571   0.20206237]]\n"
     ]
    }
   ],
   "source": [
    "X = tf.placeholder('float', [None, 4])\n",
    "h = layer(output_dim=3, input_dim=4, inputs=X, activation=tf.nn.relu)\n",
    "y = layer(output_dim=2, input_dim=3, inputs=h)\n",
    "\n",
    "with tf.Session() as sess:\n",
    "    init = tf.global_variables_initializer()\n",
    "    sess.run(init)\n",
    "    X_array = np.array([[0.4, 0.2, 0.4, 0.5]])\n",
    "    (layer_X, layer_h, layer_y) =  sess.run((X,h,y), feed_dict={X:X_array})\n",
    "    \n",
    "    print('input layer X:');print(layer_X)\n",
    "    print('hidden layer h:');print(layer_h)\n",
    "    print('output layer y:');print(layer_y)"
   ]
  },
  {
   "cell_type": "markdown",
   "metadata": {},
   "source": [
    "## 建立layer_debug函数显示权重与偏差"
   ]
  },
  {
   "cell_type": "code",
   "execution_count": 14,
   "metadata": {
    "collapsed": true
   },
   "outputs": [],
   "source": [
    "def layer_debug(output_dim, input_dim, inputs, activation=None):\n",
    "    W = tf.Variable(tf.random_normal([input_dim, output_dim]))\n",
    "    b = tf.Variable(tf.random_normal([1, output_dim]))\n",
    "    XWb = tf.matmul(inputs, W)+b\n",
    "    if activation is None:\n",
    "        outputs = XWb\n",
    "    else:\n",
    "        outputs = activation(XWb)\n",
    "    return outputs, W, b"
   ]
  },
  {
   "cell_type": "code",
   "execution_count": 16,
   "metadata": {},
   "outputs": [
    {
     "name": "stdout",
     "output_type": "stream",
     "text": [
      "input layer X:\n",
      "[[ 0.40000001  0.2         0.40000001  0.5       ]]\n",
      "W1:\n",
      "[[-1.84562612 -0.39592779 -1.80490005]\n",
      " [-0.83943081 -1.34275281  0.04058271]\n",
      " [-0.61014766  0.38935891 -0.40449473]\n",
      " [ 0.42494005 -0.72122079 -0.58483118]]\n",
      "b1:\n",
      "[[ 2.89507127 -1.79414451  0.63702327]]\n",
      "hidden layer h:\n",
      "[[ 1.9573456  0.         0.       ]]\n",
      "W2:\n",
      "[[ 0.63538241  0.46541041]\n",
      " [-0.07047886 -1.10237646]\n",
      " [ 0.39096537 -0.66185409]]\n",
      "b2:\n",
      "[[ 0.3583056  -2.00548649]]\n",
      "output layer y:\n",
      "[[ 1.60196853 -1.09451747]]\n"
     ]
    }
   ],
   "source": [
    "X = tf.placeholder('float', [None, 4])\n",
    "h,W1,b1 = layer_debug(output_dim=3, input_dim=4, inputs=X, activation=tf.nn.relu)\n",
    "y,W2,b2 = layer_debug(output_dim=2, input_dim=3, inputs=h)\n",
    "\n",
    "with tf.Session() as sess:\n",
    "    init = tf.global_variables_initializer()\n",
    "    sess.run(init)\n",
    "    X_array = np.array([[0.4, 0.2, 0.4, 0.5]])\n",
    "    (layer_X, layer_h, layer_y,W1,b1,W2,b2) =  sess.run((X,h,y,W1,b1,W2,b2), feed_dict={X:X_array})\n",
    "    \n",
    "    print('input layer X:');print(layer_X)\n",
    "    print('W1:');print(W1)\n",
    "    print('b1:');print(b1)\n",
    "    print('hidden layer h:');print(layer_h)\n",
    "    print('W2:');print(W2)\n",
    "    print('b2:');print(b2)\n",
    "    print('output layer y:');print(layer_y)"
   ]
  },
  {
   "cell_type": "code",
   "execution_count": null,
   "metadata": {
    "collapsed": true
   },
   "outputs": [],
   "source": []
  }
 ],
 "metadata": {
  "kernelspec": {
   "display_name": "Python 2",
   "language": "python",
   "name": "python2"
  },
  "language_info": {
   "codemirror_mode": {
    "name": "ipython",
    "version": 2
   },
   "file_extension": ".py",
   "mimetype": "text/x-python",
   "name": "python",
   "nbconvert_exporter": "python",
   "pygments_lexer": "ipython2",
   "version": "2.7.13"
  }
 },
 "nbformat": 4,
 "nbformat_minor": 2
}
